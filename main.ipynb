{
 "cells": [
  {
   "cell_type": "markdown",
   "id": "1900761d",
   "metadata": {},
   "source": [
    "## Map generator\n",
    "In dit bestand leg ik uit hoe ik maps genereer. Als eerste moet ik een algoritme kiezen om paden te genereren op een 2d map space, deze paden moeten een bepaalde dikte hebben.\n",
    "\n",
    "- Bronnen:\n",
    "    - https://theory.stanford.edu/~amitp/GameProgramming/AStarComparison.html\n",
    "    - https://medium.com/@yvanscher/playing-with-perlin-noise-generating-realistic-archipelagos-b59f004d8401\n"
   ]
  },
  {
   "cell_type": "markdown",
   "id": "02c02595",
   "metadata": {},
   "source": [
    "Als eerste ben ik begonnen met een map genereren doormiddel van een noise functie, hiermee krijg ik een simpele map die wij als groepje kunnen gebruiken om alvast te proberen om de intergratie werkend te maken. De bedoeling is dat de map in een 2d array komt, deze array heeft verschillende nummers die geassiocieerd worden met verschillende tiles."
   ]
  },
  {
   "cell_type": "code",
   "execution_count": 3,
   "id": "35672b3a",
   "metadata": {},
   "outputs": [],
   "source": [
    "import noise\n",
    "import numpy as np\n"
   ]
  },
  {
   "cell_type": "markdown",
   "id": "5da8f386",
   "metadata": {},
   "source": []
  },
  {
   "cell_type": "code",
   "execution_count": null,
   "id": "bb0ed393",
   "metadata": {},
   "outputs": [
    {
     "ename": "TypeError",
     "evalue": "'persistance' is an invalid keyword argument for noise2()",
     "output_type": "error",
     "traceback": [
      "\u001b[31m---------------------------------------------------------------------------\u001b[39m",
      "\u001b[31mTypeError\u001b[39m                                 Traceback (most recent call last)",
      "\u001b[36mCell\u001b[39m\u001b[36m \u001b[39m\u001b[32mIn[5]\u001b[39m\u001b[32m, line 11\u001b[39m\n\u001b[32m      9\u001b[39m \u001b[38;5;28;01mfor\u001b[39;00m i \u001b[38;5;129;01min\u001b[39;00m \u001b[38;5;28mrange\u001b[39m(map_shape[\u001b[32m0\u001b[39m]):\n\u001b[32m     10\u001b[39m     \u001b[38;5;28;01mfor\u001b[39;00m j \u001b[38;5;129;01min\u001b[39;00m \u001b[38;5;28mrange\u001b[39m(map_shape[\u001b[32m1\u001b[39m]):\n\u001b[32m---> \u001b[39m\u001b[32m11\u001b[39m         \u001b[38;5;28mmap\u001b[39m[i][j] = \u001b[43mnoise\u001b[49m\u001b[43m.\u001b[49m\u001b[43mpnoise2\u001b[49m\u001b[43m(\u001b[49m\n\u001b[32m     12\u001b[39m \u001b[43m            \u001b[49m\u001b[43mi\u001b[49m\u001b[43m \u001b[49m\u001b[43m/\u001b[49m\u001b[43m \u001b[49m\u001b[43mscale\u001b[49m\u001b[43m,\u001b[49m\n\u001b[32m     13\u001b[39m \u001b[43m            \u001b[49m\u001b[43mj\u001b[49m\u001b[43m \u001b[49m\u001b[43m/\u001b[49m\u001b[43m \u001b[49m\u001b[43mscale\u001b[49m\u001b[43m,\u001b[49m\n\u001b[32m     14\u001b[39m \u001b[43m            \u001b[49m\u001b[43moctaves\u001b[49m\u001b[43m=\u001b[49m\u001b[43moctaves\u001b[49m\u001b[43m,\u001b[49m\n\u001b[32m     15\u001b[39m \u001b[43m            \u001b[49m\u001b[43mpersistance\u001b[49m\u001b[43m=\u001b[49m\u001b[43mpersistance\u001b[49m\u001b[43m,\u001b[49m\n\u001b[32m     16\u001b[39m \u001b[43m            \u001b[49m\u001b[43mlacunarity\u001b[49m\u001b[43m=\u001b[49m\u001b[43mlacunarity\u001b[49m\u001b[43m,\u001b[49m\n\u001b[32m     17\u001b[39m \u001b[43m            \u001b[49m\u001b[43mbase\u001b[49m\u001b[43m=\u001b[49m\u001b[32;43m0\u001b[39;49m\n\u001b[32m     18\u001b[39m \u001b[43m        \u001b[49m\u001b[43m)\u001b[49m\n",
      "\u001b[31mTypeError\u001b[39m: 'persistance' is an invalid keyword argument for noise2()"
     ]
    }
   ],
   "source": [
    "map_shape = (50, 100)\n",
    "\n",
    "scale = 100\n",
    "octaves = 6\n",
    "persistence  = 0.5\n",
    "lacunarity = 2.0\n",
    "\n",
    "map = np.zeros(map_shape)\n",
    "for i in range(map_shape[0]):\n",
    "    for j in range(map_shape[1]):\n",
    "        map[i][j] = noise.pnoise2(\n",
    "            i / scale,\n",
    "            j / scale,\n",
    "            octaves=octaves,\n",
    "            persistence=persistence,\n",
    "            lacunarity=lacunarity,\n",
    "            base=0\n",
    "        )"
   ]
  }
 ],
 "metadata": {
  "kernelspec": {
   "display_name": ".venvproject5",
   "language": "python",
   "name": "python3"
  },
  "language_info": {
   "codemirror_mode": {
    "name": "ipython",
    "version": 3
   },
   "file_extension": ".py",
   "mimetype": "text/x-python",
   "name": "python",
   "nbconvert_exporter": "python",
   "pygments_lexer": "ipython3",
   "version": "3.11.0"
  }
 },
 "nbformat": 4,
 "nbformat_minor": 5
}
