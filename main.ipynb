{
 "cells": [
  {
   "cell_type": "markdown",
   "id": "1900761d",
   "metadata": {},
   "source": [
    "## Map generator\n",
    "In dit bestand leg ik uit hoe ik maps genereer. Als eerste moet ik een algoritme kiezen om paden te genereren op een 2d map space, deze paden moeten een bepaalde dikte hebben.\n",
    "\n",
    "- Bronnen:\n",
    "    - https://theory.stanford.edu/~amitp/GameProgramming/AStarComparison.html\n",
    "    \n"
   ]
  },
  {
   "cell_type": "code",
   "execution_count": null,
   "id": "bb0ed393",
   "metadata": {
    "vscode": {
     "languageId": "plaintext"
    }
   },
   "outputs": [],
   "source": [
    "map = []"
   ]
  }
 ],
 "metadata": {
  "language_info": {
   "name": "python"
  }
 },
 "nbformat": 4,
 "nbformat_minor": 5
}
