{
 "cells": [
  {
   "cell_type": "markdown",
   "id": "1900761d",
   "metadata": {},
   "source": [
    "## Map generator\n",
    "In dit bestand leg ik uit hoe ik maps genereer. Als eerste moet ik een algoritme kiezen om paden te genereren op een 2d map space, deze paden moeten een bepaalde dikte hebben.\n",
    "\n",
    "- Bronnen:\n",
    "    - https://theory.stanford.edu/~amitp/GameProgramming/AStarComparison.html\n",
    "    - https://medium.com/@yvanscher/playing-with-perlin-noise-generating-realistic-archipelagos-b59f004d8401\n",
    "    - https://www.geeksforgeeks.org/find-whether-path-two-cells-matrix/\n"
   ]
  },
  {
   "cell_type": "markdown",
   "id": "02c02595",
   "metadata": {},
   "source": [
    "Als eerste ben ik begonnen met een map genereren doormiddel van een noise functie, hiermee krijg ik een simpele map die wij als groepje kunnen gebruiken om alvast te proberen om de intergratie werkend te maken. De bedoeling is dat de map in een 2d array komt, deze array heeft verschillende nummers die geassiocieerd worden met verschillende tiles."
   ]
  },
  {
   "cell_type": "code",
   "execution_count": 1,
   "id": "35672b3a",
   "metadata": {},
   "outputs": [],
   "source": [
    "import noise\n",
    "import numpy as np\n",
    "from PIL import Image\n",
    "import random\n",
    "import sys"
   ]
  },
  {
   "cell_type": "markdown",
   "id": "5da8f386",
   "metadata": {},
   "source": [
    "Voor de eerste versie van de map gebruik ik nu een noise generator, perlin noise, dit gebruik ik om makkelijk te kunnen testen voor de implentmentatie met Unity, de API en de database. De noise generator maakt een value tussen -1 en 1 voor dit project ben ik op zoek naar de values 0 en 1, dus loop ik over de array om te checken in welke catogory dit value past."
   ]
  },
  {
   "cell_type": "code",
   "execution_count": 9,
   "id": "bb0ed393",
   "metadata": {},
   "outputs": [
    {
     "name": "stdout",
     "output_type": "stream",
     "text": [
      "14\n",
      "shape of the map: (100, 200)\n",
      "mapdata: [[255. 255. 255. ...   0.   0.   0.]\n",
      " [  0.   0.   0. ...   0.   0.   0.]\n",
      " [  0.   0.   0. ...   0.   0.   0.]\n",
      " ...\n",
      " [  0.   0.   0. ... 255. 255. 255.]\n",
      " [  0.   0.   0. ... 255. 255.   0.]\n",
      " [  0.   0.   0. ...   0.   0.   0.]]\n"
     ]
    }
   ],
   "source": [
    "map_shape = (100, 200)\n",
    "\n",
    "scale = 100\n",
    "octaves = 5\n",
    "persistence  = 0.5\n",
    "lacunarity = 2.0\n",
    "\n",
    "randomness = random.randint(0, 2^32)\n",
    "print(randomness)\n",
    "map = np.zeros(map_shape)\n",
    "for i in range(map_shape[0]):\n",
    "    for j in range(map_shape[1]):\n",
    "        map[i][j] = noise.pnoise2(\n",
    "            i / scale,\n",
    "            j / scale,\n",
    "            octaves=octaves,\n",
    "            persistence=persistence,\n",
    "            lacunarity=lacunarity,\n",
    "            base=randomness\n",
    "        )\n",
    "\n",
    "def set_map_numbers(map):\n",
    "    for i in range(len(map)):\n",
    "        for n in range(len(map[0])):\n",
    "            if map[i][n] >= 0:\n",
    "                map[i][n] = 255\n",
    "            else:\n",
    "                map[i][n] = 0\n",
    "    return map\n",
    "\n",
    "map = set_map_numbers(map)\n",
    "print(\"shape of the map: \" + str(map.shape))\n",
    "print(\"mapdata: \" + str(map))\n",
    "\n",
    "im = Image.fromarray(map)\n",
    "im.show()"
   ]
  },
  {
   "cell_type": "markdown",
   "id": "8bb93f38",
   "metadata": {},
   "source": [
    "Ik heb ook een functie gemaakt om de array te kunnen visualizen, dit doe ik doormiddel van PILLOW, een library die gemaakt is voor het maken, manipuleren en opslaan van images."
   ]
  }
 ],
 "metadata": {
  "kernelspec": {
   "display_name": ".venvproject5",
   "language": "python",
   "name": "python3"
  },
  "language_info": {
   "codemirror_mode": {
    "name": "ipython",
    "version": 3
   },
   "file_extension": ".py",
   "mimetype": "text/x-python",
   "name": "python",
   "nbconvert_exporter": "python",
   "pygments_lexer": "ipython3",
   "version": "3.11.0"
  }
 },
 "nbformat": 4,
 "nbformat_minor": 5
}
