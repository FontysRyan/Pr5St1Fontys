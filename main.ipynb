{
 "cells": [
  {
   "cell_type": "markdown",
   "id": "1900761d",
   "metadata": {},
   "source": [
    "## Map generator Versie 1\n",
    "In dit bestand leg ik uit hoe ik maps genereer. Als eerste moet ik een algoritme kiezen om paden te genereren op een 2d map space, deze paden moeten een bepaalde dikte hebben.\n",
    "\n",
    "- Bronnen:\n",
    "    - https://theory.stanford.edu/~amitp/GameProgramming/AStarComparison.html\n",
    "    - https://medium.com/@yvanscher/playing-with-perlin-noise-generating-realistic-archipelagos-b59f004d8401\n",
    "    - https://www.geeksforgeeks.org/find-whether-path-two-cells-matrix/\n",
    "    - https://www.redblobgames.com/pathfinding/a-star/introduction.html\n",
    "\n",
    "Versie 1 is de versie waar ik een map kan genereren, deze map is niet helemaal wat ik hier van verwacht, doordat ik met perlin noise mijn funcite maak en erna kijk of er een pad van links naar rechts is worden maps met veel wit in het midden bevoordeeld, in een 2e versie wil ik dit gaan verbeteren."
   ]
  },
  {
   "cell_type": "markdown",
   "id": "02c02595",
   "metadata": {},
   "source": [
    "Als eerste ben ik begonnen met een map genereren doormiddel van een noise functie, hiermee krijg ik een simpele map die wij als groepje kunnen gebruiken om alvast te proberen om de intergratie werkend te maken. De bedoeling is dat de map in een 2d array komt, deze array heeft verschillende nummers die geassiocieerd worden met verschillende tiles."
   ]
  },
  {
   "cell_type": "code",
   "execution_count": 2,
   "id": "35672b3a",
   "metadata": {},
   "outputs": [],
   "source": [
    "import noise\n",
    "import numpy as np\n",
    "from PIL import Image\n",
    "import random, sys, json"
   ]
  },
  {
   "cell_type": "markdown",
   "id": "422ff524",
   "metadata": {},
   "source": [
    "#### Helper functies\n",
    "Hieronder staan wat algemene functies die ik meerdere keren nodig heb gehad die niet per se in een bepaald stukje passen. Dit stukje moet gerund worden omdat de meeste stukjes code wel een van deze functies gebruiken."
   ]
  },
  {
   "cell_type": "code",
   "execution_count": 3,
   "id": "501f3200",
   "metadata": {},
   "outputs": [],
   "source": [
    "# zet alle values van de map die hoger zijn dan 0 naar een bepaald value.\n",
    "def set_map_numbers(map, value):\n",
    "    for i in range(len(map)):\n",
    "        for n in range(len(map[0])):\n",
    "            if map[i][n] > 0:\n",
    "                map[i][n] = value\n",
    "            else:\n",
    "                map[i][n] = 0\n",
    "    return map\n"
   ]
  },
  {
   "cell_type": "markdown",
   "id": "5da8f386",
   "metadata": {},
   "source": [
    "Voor de eerste versie van de map gebruik ik nu een noise generator, perlin noise, dit gebruik ik om makkelijk te kunnen testen voor de implentmentatie met Unity, de API en de database. De noise generator maakt een value tussen -1 en 1 voor dit project ben ik op zoek naar de values 0 en 1, dus loop ik over de array om te checken in welke catogory dit value past. Ook wil ik kijken of de map valid is, dit wil ik doen door te kijken of er een pad is van links midden naar rechts midden door alleen maar nullen. <br> BFS (breadth first )"
   ]
  },
  {
   "cell_type": "code",
   "execution_count": 28,
   "id": "bb0ed393",
   "metadata": {},
   "outputs": [
    {
     "name": "stdout",
     "output_type": "stream",
     "text": [
      "Currently chacking map: 1\n",
      "Currently chacking map: 2\n",
      "Currently chacking map: 3\n",
      "found a valid map on the: 3th try\n",
      "[[1. 1. 1. ... 0. 0. 0.]\n",
      " [1. 1. 1. ... 0. 0. 0.]\n",
      " [1. 1. 1. ... 0. 0. 0.]\n",
      " ...\n",
      " [0. 0. 0. ... 0. 0. 0.]\n",
      " [0. 0. 0. ... 0. 0. 0.]\n",
      " [0. 0. 0. ... 0. 0. 0.]]\n"
     ]
    }
   ],
   "source": [
    "def generate_noise(size, seed):\n",
    "    if seed == 0:\n",
    "        randomness = random.randint(0, 1000)\n",
    "    else:\n",
    "        randomness = seed\n",
    "    map = np.zeros(size)\n",
    "\n",
    "    x_offset = random.uniform(0, 1000)\n",
    "    y_offset = random.uniform(0, 1000)\n",
    "\n",
    "    scale = random.uniform(50, 150)\n",
    "    for i in range(size[0]):\n",
    "        for j in range(size[1]):\n",
    "            map[i][j] = noise.pnoise2(\n",
    "                (i + x_offset) / scale,\n",
    "                (j + y_offset) / scale,\n",
    "                octaves=5,\n",
    "                persistence=0.5,\n",
    "                lacunarity=2.0,\n",
    "                base=randomness\n",
    "            )\n",
    "    return map\n",
    "\n",
    "from collections import deque\n",
    "\n",
    "def has_valid_path(arr, start, end):\n",
    "    rows, cols = arr.shape\n",
    "    visited = [[False] * cols for _ in range(rows)]\n",
    "    queue = deque([start])\n",
    "\n",
    "    while queue:\n",
    "        x, y = queue.popleft()\n",
    "\n",
    "        if (x, y) == end:\n",
    "            return True\n",
    "\n",
    "        for dx, dy in [(-1,0), (1,0), (0,-1), (0,1)]:\n",
    "            nx, ny = x + dx, y + dy\n",
    "            if 0 <= nx < rows and 0 <= ny < cols:\n",
    "                if arr[nx][ny] != 0 and not visited[nx][ny]:\n",
    "                    visited[nx][ny] = True\n",
    "                    queue.append((nx, ny))\n",
    "\n",
    "    return False\n",
    "\n",
    "def generate_map(size, seed):\n",
    "    map = generate_noise(size, seed)\n",
    "    map = set_map_numbers(map, 1)\n",
    "    return map\n",
    "\n",
    "def generate_valid_map(size, seed):\n",
    "    map_shape = size\n",
    "\n",
    "    map_start = (int(map_shape[0] / 2), 0)\n",
    "    map_end = (int(map_shape[0] / 2), map_shape[1] - 1)\n",
    "\n",
    "    valid_map_found = False\n",
    "    map_counter = 1\n",
    "    while not valid_map_found:\n",
    "        print(\"Currently chacking map: \" + str(map_counter))\n",
    "        map = generate_map(map_shape, seed)\n",
    "        valid_map_found = has_valid_path(map, map_start, map_end)\n",
    "        map_counter += 1\n",
    "    print(\"found a valid map on the: \" + str(map_counter - 1) + \"th try\")\n",
    "    return map\n",
    "\n",
    "map = generate_valid_map((100, 200), 0)\n",
    "print(map)\n"
   ]
  },
  {
   "cell_type": "markdown",
   "id": "8bb93f38",
   "metadata": {},
   "source": [
    "Ik heb ook een functie gemaakt om de array te kunnen visualizen, dit doe ik doormiddel van PILLOW, een library die gemaakt is voor het maken, manipuleren en opslaan van images."
   ]
  },
  {
   "cell_type": "code",
   "execution_count": null,
   "id": "a12bd894",
   "metadata": {},
   "outputs": [
    {
     "name": "stdout",
     "output_type": "stream",
     "text": [
      "the input map is: [[255. 255. 255. ...   0.   0.   0.]\n",
      " [255. 255. 255. ...   0.   0.   0.]\n",
      " [255. 255. 255. ...   0.   0.   0.]\n",
      " ...\n",
      " [  0.   0.   0. ...   0.   0.   0.]\n",
      " [  0.   0.   0. ...   0.   0.   0.]\n",
      " [  0.   0.   0. ...   0.   0.   0.]]\n",
      "[[255. 255. 255. ...   0.   0.   0.]\n",
      " [255. 255. 255. ...   0.   0.   0.]\n",
      " [255. 255. 255. ...   0.   0.   0.]\n",
      " ...\n",
      " [  0.   0.   0. ...   0.   0.   0.]\n",
      " [  0.   0.   0. ...   0.   0.   0.]\n",
      " [  0.   0.   0. ...   0.   0.   0.]]\n"
     ]
    }
   ],
   "source": [
    "print(\"the input map is: \" + str(map))\n",
    "def show_map(map, save):\n",
    "    if save:\n",
    "        if im.mode != 'RGB':\n",
    "            im = im.convert('RGB')\n",
    "        im.save(\"map.jpg\")\n",
    "    processed_map = set_map_numbers(map, 255)\n",
    "    im = Image.fromarray(processed_map)\n",
    "    im.show()\n",
    "\n",
    "\n",
    "show_map(map, False)\n",
    "print(map)"
   ]
  },
  {
   "cell_type": "code",
   "execution_count": 38,
   "id": "1094a16f",
   "metadata": {},
   "outputs": [],
   "source": [
    "data = {\n",
    "    \"map_data\" : map.tolist()\n",
    "}\n",
    "\n",
    "with open('data.json', 'w', encoding='utf-8') as f:\n",
    "    json.dump(data, f, ensure_ascii=False, indent=4)\n"
   ]
  }
 ],
 "metadata": {
  "kernelspec": {
   "display_name": ".venv",
   "language": "python",
   "name": "python3"
  },
  "language_info": {
   "codemirror_mode": {
    "name": "ipython",
    "version": 3
   },
   "file_extension": ".py",
   "mimetype": "text/x-python",
   "name": "python",
   "nbconvert_exporter": "python",
   "pygments_lexer": "ipython3",
   "version": "3.12.3"
  }
 },
 "nbformat": 4,
 "nbformat_minor": 5
}
